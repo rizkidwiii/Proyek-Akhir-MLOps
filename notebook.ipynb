{
 "cells": [
  {
   "cell_type": "code",
   "execution_count": 12,
   "metadata": {},
   "outputs": [
    {
     "name": "stdout",
     "output_type": "stream",
     "text": [
      "Index(['Customer_ID', 'Subscription_Length', 'Customer_Satisfaction_Score',\n",
      "       'Daily_Watch_Time', 'Engagement_Rate', 'Device_Used_Most_Often',\n",
      "       'Genre_Preference', 'Region', 'Payment_History', 'Subscription_Plan',\n",
      "       'Churn', 'Support_Queries_Logged', 'Age', 'Monthly_Income',\n",
      "       'Promotional_Offers_Used', 'Number_of_Profiles_Created'],\n",
      "      dtype='object')\n"
     ]
    }
   ],
   "source": [
    "import pandas as pd\n",
    "df = pd.read_csv(\"data/Netflix Engagement Dataset.csv\")  # Sesuaikan path dataset\n",
    "print(df.columns)\n"
   ]
  },
  {
   "cell_type": "code",
   "execution_count": 13,
   "metadata": {},
   "outputs": [
    {
     "name": "stdout",
     "output_type": "stream",
     "text": [
      "   Customer_ID  Subscription_Length  Customer_Satisfaction_Score  \\\n",
      "0            1                   50                           10   \n",
      "1            2                   40                            5   \n",
      "2            3                   17                            8   \n",
      "3            4                   59                           10   \n",
      "4            5                    5                            7   \n",
      "\n",
      "   Daily_Watch_Time  Engagement_Rate Device_Used_Most_Often Genre_Preference  \\\n",
      "0              4.32                8                 Mobile          Romance   \n",
      "1              4.45                3               Smart TV           Comedy   \n",
      "2              4.81                8                 Laptop           Sci-fi   \n",
      "3              2.67               10                 Mobile           Action   \n",
      "4              4.20                9               Smart TV           Sci-fi   \n",
      "\n",
      "          Region Payment_History Subscription_Plan  Churn  \\\n",
      "0        Oceania         On-Time           Premium      0   \n",
      "1           Asia         On-Time           Premium      0   \n",
      "2  South America         On-Time             Basic      0   \n",
      "3         Africa         On-Time             Basic      0   \n",
      "4  North America         On-Time          Standard      0   \n",
      "\n",
      "   Support_Queries_Logged  Age  Monthly_Income Promotional_Offers_Used  \\\n",
      "0                       9   26            3307                     Yes   \n",
      "1                       6   27            7333                     Yes   \n",
      "2                       0   55            7527                     Yes   \n",
      "3                       1   29            9934                     Yes   \n",
      "4                       7   45            6242                     Yes   \n",
      "\n",
      "   Number_of_Profiles_Created  \n",
      "0                           2  \n",
      "1                           2  \n",
      "2                           3  \n",
      "3                           3  \n",
      "4                           3  \n"
     ]
    }
   ],
   "source": [
    "import pandas as pd\n",
    "\n",
    "df = pd.read_csv(\"data/Netflix Engagement Dataset.csv\")\n",
    "print(df.head())  # Periksa apakah kolom terpisah dengan benar\n"
   ]
  },
  {
   "cell_type": "code",
   "execution_count": 14,
   "metadata": {},
   "outputs": [
    {
     "name": "stdout",
     "output_type": "stream",
     "text": [
      "<class 'pandas.core.frame.DataFrame'>\n",
      "RangeIndex: 3500 entries, 0 to 3499\n",
      "Data columns (total 16 columns):\n",
      " #   Column                       Non-Null Count  Dtype  \n",
      "---  ------                       --------------  -----  \n",
      " 0   Customer_ID                  3500 non-null   int64  \n",
      " 1   Subscription_Length          3500 non-null   int64  \n",
      " 2   Customer_Satisfaction_Score  3500 non-null   int64  \n",
      " 3   Daily_Watch_Time             3500 non-null   float64\n",
      " 4   Engagement_Rate              3500 non-null   int64  \n",
      " 5   Device_Used_Most_Often       3500 non-null   object \n",
      " 6   Genre_Preference             3500 non-null   object \n",
      " 7   Region                       3500 non-null   object \n",
      " 8   Payment_History              3500 non-null   object \n",
      " 9   Subscription_Plan            3500 non-null   object \n",
      " 10  Churn                        3500 non-null   int64  \n",
      " 11  Support_Queries_Logged       3500 non-null   int64  \n",
      " 12  Age                          3500 non-null   int64  \n",
      " 13  Monthly_Income               3500 non-null   int64  \n",
      " 14  Promotional_Offers_Used      3500 non-null   object \n",
      " 15  Number_of_Profiles_Created   3500 non-null   int64  \n",
      "dtypes: float64(1), int64(9), object(6)\n",
      "memory usage: 437.6+ KB\n"
     ]
    }
   ],
   "source": [
    "df.info()"
   ]
  },
  {
   "cell_type": "code",
   "execution_count": 15,
   "metadata": {},
   "outputs": [
    {
     "data": {
      "text/plain": [
       "Customer_ID                    0\n",
       "Subscription_Length            0\n",
       "Customer_Satisfaction_Score    0\n",
       "Daily_Watch_Time               0\n",
       "Engagement_Rate                0\n",
       "Device_Used_Most_Often         0\n",
       "Genre_Preference               0\n",
       "Region                         0\n",
       "Payment_History                0\n",
       "Subscription_Plan              0\n",
       "Churn                          0\n",
       "Support_Queries_Logged         0\n",
       "Age                            0\n",
       "Monthly_Income                 0\n",
       "Promotional_Offers_Used        0\n",
       "Number_of_Profiles_Created     0\n",
       "dtype: int64"
      ]
     },
     "execution_count": 15,
     "metadata": {},
     "output_type": "execute_result"
    }
   ],
   "source": [
    "df.isnull().sum()"
   ]
  },
  {
   "cell_type": "code",
   "execution_count": 16,
   "metadata": {},
   "outputs": [
    {
     "data": {
      "text/plain": [
       "0"
      ]
     },
     "execution_count": 16,
     "metadata": {},
     "output_type": "execute_result"
    }
   ],
   "source": [
    "df.duplicated().sum()"
   ]
  },
  {
   "cell_type": "code",
   "execution_count": 17,
   "metadata": {},
   "outputs": [
    {
     "name": "stdout",
     "output_type": "stream",
     "text": [
      "[0 1]\n"
     ]
    }
   ],
   "source": [
    "print(df['Churn'].unique())\n"
   ]
  }
 ],
 "metadata": {
  "kernelspec": {
   "display_name": "netflix-churn",
   "language": "python",
   "name": "python3"
  },
  "language_info": {
   "codemirror_mode": {
    "name": "ipython",
    "version": 3
   },
   "file_extension": ".py",
   "mimetype": "text/x-python",
   "name": "python",
   "nbconvert_exporter": "python",
   "pygments_lexer": "ipython3",
   "version": "3.9.0"
  }
 },
 "nbformat": 4,
 "nbformat_minor": 2
}
